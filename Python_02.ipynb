{
  "cells": [
    {
      "cell_type": "markdown",
      "metadata": {
        "id": "view-in-github",
        "colab_type": "text"
      },
      "source": [
        "<a href=\"https://colab.research.google.com/github/TarasStasko/Python_2/blob/main/Python_02.ipynb\" target=\"_parent\"><img src=\"https://colab.research.google.com/assets/colab-badge.svg\" alt=\"Open In Colab\"/></a>"
      ]
    },
    {
      "cell_type": "markdown",
      "source": [
        "# New section"
      ],
      "metadata": {
        "id": "qJjy7oA8-ZF1"
      }
    },
    {
      "cell_type": "code",
      "source": [
        "# 1.\n",
        "a = 10\n",
        "b = 10\n",
        "print(id(a))\n",
        "print(id(b))\n",
        "\n",
        "a == b\n",
        "#  Змінні рівні за значенням і посилаються на один і той самий обʼєкт в памʼяті."
      ],
      "metadata": {
        "id": "7-XalyOj-u_y",
        "outputId": "ede6cb10-38f1-4243-9a91-4d58585f7bf9",
        "colab": {
          "base_uri": "https://localhost:8080/"
        }
      },
      "execution_count": null,
      "outputs": [
        {
          "output_type": "stream",
          "name": "stdout",
          "text": [
            "135872788283920\n",
            "135872788283920\n"
          ]
        },
        {
          "output_type": "execute_result",
          "data": {
            "text/plain": [
              "True"
            ]
          },
          "metadata": {},
          "execution_count": 11
        }
      ]
    },
    {
      "cell_type": "code",
      "source": [
        "# 2.\n",
        "a = 15\n",
        "b = False\n",
        "print(type(a))\n",
        "print(type(b))"
      ],
      "metadata": {
        "id": "_JuzvRT3MFwa",
        "outputId": "57a30fba-8032-48d7-d445-29188b7c2ab1",
        "colab": {
          "base_uri": "https://localhost:8080/"
        }
      },
      "execution_count": null,
      "outputs": [
        {
          "output_type": "stream",
          "name": "stdout",
          "text": [
            "<class 'int'>\n",
            "<class 'bool'>\n"
          ]
        }
      ]
    },
    {
      "cell_type": "code",
      "source": [
        "# 3.\n",
        "a = 3\n",
        "b = 10.5\n",
        "print(a+b)\n",
        "print(b-a)\n",
        "print(a*b)\n",
        "print(a/b)\n",
        "print(b//a)\n",
        "print(b%a)\n",
        "print(b**a)"
      ],
      "metadata": {
        "id": "bk0MmU2aNIDp",
        "outputId": "f8fad4a4-b00e-4e66-eaef-7cce48fbb079",
        "colab": {
          "base_uri": "https://localhost:8080/"
        }
      },
      "execution_count": null,
      "outputs": [
        {
          "output_type": "stream",
          "name": "stdout",
          "text": [
            "13.5\n",
            "7.5\n",
            "31.5\n",
            "0.2857142857142857\n",
            "3.0\n",
            "1.5\n",
            "1157.625\n"
          ]
        }
      ]
    },
    {
      "cell_type": "code",
      "source": [
        "# 4.\n",
        "a = 3\n",
        "b = 10.5\n",
        "c = False\n",
        "b = int(b)\n",
        "print(type(b))\n",
        "print(b)\n",
        "c = int(c)\n",
        "print(type(c))\n",
        "print(c)"
      ],
      "metadata": {
        "id": "DWsXja-6OXXt",
        "outputId": "eb8b035f-0052-4f4f-f2a0-abd277ae8610",
        "colab": {
          "base_uri": "https://localhost:8080/"
        }
      },
      "execution_count": null,
      "outputs": [
        {
          "output_type": "stream",
          "name": "stdout",
          "text": [
            "<class 'int'>\n",
            "10\n",
            "<class 'int'>\n",
            "0\n"
          ]
        }
      ]
    },
    {
      "cell_type": "code",
      "source": [
        "# 5.\n",
        "a = \"\"\n",
        "print(a)\n",
        "b = str()\n",
        "print(b)"
      ],
      "metadata": {
        "id": "Rf8nHDunQIx-",
        "outputId": "88647b06-faab-41d6-ec57-03a1973e73af",
        "colab": {
          "base_uri": "https://localhost:8080/"
        }
      },
      "execution_count": null,
      "outputs": [
        {
          "output_type": "stream",
          "name": "stdout",
          "text": [
            "\n",
            "\n"
          ]
        }
      ]
    },
    {
      "cell_type": "code",
      "source": [
        "# 6.\n",
        "normal_string = \"Апостроф: \\n ' \"\n",
        "\n",
        "raw_string = r\"Апостроф: \\n ' \"\n",
        "\n",
        "print(normal_string)\n",
        "print(raw_string)"
      ],
      "metadata": {
        "colab": {
          "base_uri": "https://localhost:8080/"
        },
        "id": "raWp5jWAavvG",
        "outputId": "301a7cbd-affd-4aba-c1ed-7859b36f8c0a"
      },
      "execution_count": null,
      "outputs": [
        {
          "output_type": "stream",
          "name": "stdout",
          "text": [
            "Апостроф: \n",
            " ' \n",
            "Апостроф: \\n ' \n"
          ]
        }
      ]
    },
    {
      "cell_type": "code",
      "source": [
        "# 7.\n",
        "surname = \"Stasko\"\n",
        "fsurname = f\"My surname is {surname}\"\n",
        "print(fsurname)"
      ],
      "metadata": {
        "colab": {
          "base_uri": "https://localhost:8080/"
        },
        "id": "vpkETMIac2d2",
        "outputId": "f07c373e-b15b-45e6-ff48-6c73f146f1ed"
      },
      "execution_count": null,
      "outputs": [
        {
          "output_type": "stream",
          "name": "stdout",
          "text": [
            "My surname is Stasko\n"
          ]
        }
      ]
    },
    {
      "cell_type": "code",
      "source": [
        "# 8.\n",
        "a = \"My dog is crazy.\"\n",
        "b = a.lower()\n",
        "c = b.split()\n",
        "\n",
        "print(c)"
      ],
      "metadata": {
        "colab": {
          "base_uri": "https://localhost:8080/"
        },
        "id": "vSQpPG_lfy7M",
        "outputId": "9361c168-2adb-4770-b5b2-4cb9632c2853"
      },
      "execution_count": null,
      "outputs": [
        {
          "output_type": "stream",
          "name": "stdout",
          "text": [
            "['my', 'dog', 'is', 'crazy.']\n"
          ]
        }
      ]
    },
    {
      "cell_type": "code",
      "source": [
        "# 9.\n",
        "a = []\n",
        "b = list()\n",
        "print(a)\n",
        "print(b)\n",
        "print(len(a))\n",
        "print(len(b))"
      ],
      "metadata": {
        "colab": {
          "base_uri": "https://localhost:8080/"
        },
        "id": "aGtQIyzcg-Ud",
        "outputId": "69ca2f39-e33b-4aa3-cd75-b62b1a72d427"
      },
      "execution_count": null,
      "outputs": [
        {
          "output_type": "stream",
          "name": "stdout",
          "text": [
            "[]\n",
            "[]\n",
            "0\n",
            "0\n"
          ]
        }
      ]
    },
    {
      "cell_type": "code",
      "source": [
        "# 10.\n",
        "a = [1,2,3]\n",
        "b = [1,2,3]\n",
        "a.append(b)\n",
        "print(a)"
      ],
      "metadata": {
        "colab": {
          "base_uri": "https://localhost:8080/"
        },
        "id": "M1XF6u6JiK47",
        "outputId": "2f13e96f-2f09-4ae3-ea94-d49b9e02b48c"
      },
      "execution_count": null,
      "outputs": [
        {
          "output_type": "stream",
          "name": "stdout",
          "text": [
            "[1, 2, 3, [1, 2, 3]]\n"
          ]
        }
      ]
    },
    {
      "cell_type": "code",
      "source": [
        "# 11.\n",
        "a = [[1,2,12], [7,3,4]]\n",
        "b = a[-1][0]\n",
        "\n",
        "print(b)\n",
        "\n"
      ],
      "metadata": {
        "colab": {
          "base_uri": "https://localhost:8080/"
        },
        "id": "n0dDxQ4Ui8cq",
        "outputId": "9aec173f-1dad-4861-a243-b9b1063afbcb"
      },
      "execution_count": null,
      "outputs": [
        {
          "output_type": "stream",
          "name": "stdout",
          "text": [
            "7\n"
          ]
        }
      ]
    },
    {
      "cell_type": "code",
      "source": [
        "# 12.\n",
        "a = [1, 2.5, 'b', [3,4], (5,6), {'December': 31} , 'Hello', 8, False, 10]\n",
        "print(a[2:-2])"
      ],
      "metadata": {
        "colab": {
          "base_uri": "https://localhost:8080/"
        },
        "id": "5Ibd5elZqtWJ",
        "outputId": "95bc4b44-f540-4a4e-8e85-4add99229673"
      },
      "execution_count": null,
      "outputs": [
        {
          "output_type": "stream",
          "name": "stdout",
          "text": [
            "['b', [3, 4], (5, 6), {'December': 31}, 'Hello', 8]\n"
          ]
        }
      ]
    },
    {
      "cell_type": "code",
      "source": [
        "# 13.\n",
        "tuple = ()"
      ],
      "metadata": {
        "id": "PZYvAgMEwy7f"
      },
      "execution_count": null,
      "outputs": []
    },
    {
      "cell_type": "markdown",
      "source": [
        "# 14.\n",
        "Схожості:\n",
        "можливість зберігання декількох об'єктів,\n",
        "індексація та зрізи,\n",
        "можливість містити об'єкти різних типів.\n",
        "\n",
        "Відмінності:\n",
        "кортежі, на відміну від списків, є незмінними,\n",
        "синтаксис,\n",
        "споживана пам'ять.\n",
        "\n",
        "Списки використовуються тоді, коли потрібно створити послідовність, яку можна буде змінювати пізніше\n",
        "\n",
        "Кортежі використовуються тоді, коли потрібно створити незмінну послідовність, яка буде використовуватися як константа."
      ],
      "metadata": {
        "id": "6Za2V8-VzAyp"
      }
    },
    {
      "cell_type": "code",
      "source": [
        "# 15.\n",
        "a = (1.2, 2.3, 3.3, 4.3, 5.3, 6.3, 7.3, 8.3, 9.3, 0.3)\n",
        "b = a[::-1][0:10:2]\n",
        "print(b)"
      ],
      "metadata": {
        "colab": {
          "base_uri": "https://localhost:8080/"
        },
        "id": "YXJjsMGf0U_n",
        "outputId": "2e7ccdd2-568d-4371-b971-4087105ad772"
      },
      "execution_count": null,
      "outputs": [
        {
          "output_type": "stream",
          "name": "stdout",
          "text": [
            "(0.3, 8.3, 6.3, 4.3, 2.3)\n"
          ]
        }
      ]
    },
    {
      "cell_type": "code",
      "source": [
        "# 16.\n",
        "myset = {}\n",
        "myset = set(myset)\n",
        "myset.update([12, 'hello', 25])\n",
        "\n",
        "print(myset)\n",
        "print(type(myset))\n",
        "# Множина є змінним типом даних"
      ],
      "metadata": {
        "colab": {
          "base_uri": "https://localhost:8080/"
        },
        "id": "5dFoBYcnAYVE",
        "outputId": "823be1f9-9509-4b1b-8416-503aa10cc4d5"
      },
      "execution_count": null,
      "outputs": [
        {
          "output_type": "stream",
          "name": "stdout",
          "text": [
            "{25, 'hello', 12}\n",
            "<class 'set'>\n"
          ]
        }
      ]
    },
    {
      "cell_type": "code",
      "source": [
        "# 17.\n",
        "my_list = [1, 1, 2, 67, 67, 8, 9]\n",
        "my_set = set(my_list)\n",
        "print(my_set)\n",
        "# особливістю множин є унікальність елементів, тобто множина не може мати два однакові елементи"
      ],
      "metadata": {
        "colab": {
          "base_uri": "https://localhost:8080/"
        },
        "id": "ueg6Ln6xDcC3",
        "outputId": "62296ab2-b0ec-4a02-96cb-f47c494b366e"
      },
      "execution_count": null,
      "outputs": [
        {
          "output_type": "stream",
          "name": "stdout",
          "text": [
            "{1, 2, 67, 8, 9}\n"
          ]
        }
      ]
    },
    {
      "cell_type": "code",
      "source": [
        "# 18.\n",
        "set1 = {1, 2, 3, 4, 5}\n",
        "set2 = {3, 4, 5, 6, 7}\n",
        "union_set = set1.union(set2)\n",
        "print(union_set)\n",
        "difference_set = set1.difference(set2)\n",
        "print(difference_set)\n",
        "intersection_set = set1.intersection(set2)\n",
        "print(intersection_set)\n",
        "symmetric_difference_set = set1.symmetric_difference(set2)\n",
        "print(symmetric_difference_set)"
      ],
      "metadata": {
        "colab": {
          "base_uri": "https://localhost:8080/"
        },
        "id": "mqdN5YGWDz2V",
        "outputId": "41834ce5-6d1c-46ef-ff30-ccb348a1872e"
      },
      "execution_count": null,
      "outputs": [
        {
          "output_type": "stream",
          "name": "stdout",
          "text": [
            "{1, 2, 3, 4, 5, 6, 7}\n",
            "{1, 2}\n",
            "{3, 4, 5}\n",
            "{1, 2, 6, 7}\n"
          ]
        }
      ]
    },
    {
      "cell_type": "code",
      "source": [
        "# 19.\n",
        "d = {}\n",
        "d[\"year\"] = 2024\n",
        "d[213] = 'num'\n",
        "d[10.5] = 'float'\n",
        "d[(1, 2, 3)] = 'tuple'\n",
        "print(d.items())\n",
        "# Списки не можуть бути хешовані"
      ],
      "metadata": {
        "colab": {
          "base_uri": "https://localhost:8080/"
        },
        "id": "ChjP_sjVFixn",
        "outputId": "69e53ea9-faed-4858-ab4e-caa08b62529d"
      },
      "execution_count": null,
      "outputs": [
        {
          "output_type": "stream",
          "name": "stdout",
          "text": [
            "dict_items([('year', 2024), (213, 'num'), (10.5, 'float'), ((1, 2, 3), 'tuple')])\n"
          ]
        }
      ]
    },
    {
      "cell_type": "code",
      "source": [
        "# 20.\n",
        "dict = {'dictionary': {'February': {'day': 'monday'}}, 'year': 2024}\n",
        "print(dict['dictionary']['February']['day'])"
      ],
      "metadata": {
        "colab": {
          "base_uri": "https://localhost:8080/"
        },
        "id": "YKOG5WBiKASI",
        "outputId": "efa06c65-91ca-48c5-897b-9b722502b543"
      },
      "execution_count": null,
      "outputs": [
        {
          "output_type": "stream",
          "name": "stdout",
          "text": [
            "monday\n"
          ]
        }
      ]
    }
  ],
  "metadata": {
    "colab": {
      "toc_visible": true,
      "provenance": [],
      "include_colab_link": true
    },
    "kernelspec": {
      "display_name": "Python 3",
      "name": "python3"
    }
  },
  "nbformat": 4,
  "nbformat_minor": 0
}